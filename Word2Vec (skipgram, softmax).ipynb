{
 "cells": [
  {
   "cell_type": "code",
   "execution_count": 182,
   "id": "46f82b7c",
   "metadata": {},
   "outputs": [],
   "source": [
    "import pandas as pd\n",
    "import torch\n",
    "import numpy as np\n",
    "import torch.nn as nn\n",
    "import torch.optim as optim\n",
    "import matplotlib.pyplot as plt"
   ]
  },
  {
   "cell_type": "code",
   "execution_count": 183,
   "id": "06470697",
   "metadata": {},
   "outputs": [],
   "source": [
    "s = 'mother loves the father children love playing football father loves playing football too and he loves mother'"
   ]
  },
  {
   "cell_type": "code",
   "execution_count": 184,
   "id": "e8516d1f",
   "metadata": {},
   "outputs": [],
   "source": [
    "stopwords = set(['', 'y', 'my', 'ourselves', \"wouldn't\", 'all', \"didn't\", 'a', 'yourselves', 'why', \"hasn't\", 'being', 'have', 'that', 'such', 'wasn', 'themselves', \"haven't\", 'its', 'was', 'this', 'i', 'only', \"you're\", 'won', 'into', 'o', 'then', 'off', 'her', 'out', 'were', 'if', 'after', 'further', 'it', 'she', 'and', 'through', 'here', 'few', 'other', 'are', 'than', 'shouldn', \"won't\", \"you'll\", \"you'd\", 'you', 'your', \"hadn't\", 'myself', 'the', 'is', 'me', 'while', \"aren't\", 'can', 'our', 'below', 'doesn', 'mightn', 'shan', 'of', 'not', 'd', \"mightn't\", 'ours', 'should', \"she's\", 'himself', 'just', 'couldn', 'who', 'hasn', 'some', 'or', 'more', 'having', \"couldn't\", 'those', 'where', 'an', 'do', 'at', 'by', 'been', 'has', 'haven', 'until', 'mustn', 'too', 'ain', 'herself', 're', 'because', 'any', 'am', 'theirs', 'yours', 'their', 'what', 'most', 'under', 'how', 'we', 'same', 'weren', 'nor', 'didn', 'for', 'during', 'when', \"wasn't\", 'above', 'him', 't', \"don't\", 'ma', \"mustn't\", 'both', 'them', 'had', 'so', 'does', \"doesn't\", 'against', 'very', \"shouldn't\", 'in', 'there', 'each', \"that'll\", 'don', \"should've\", 'which', 'now', 'they', 's', 'on', 'but', 'hadn', 'm', 'his', 'he', 'did', 'up', 'before', 'own', 'wouldn', 'yourself', 'be', 'doing', 've', 'over', \"shan't\", \"weren't\", \"needn't\", 'whom', 'to', 'again', 'll', 'aren', 'from', 'itself', 'between', 'down', \"you've\", 'needn', 'these', 'once', 'will', 'with', 'no', 'about', 'isn', 'as', 'hers', \"isn't\", \"it's\"])"
   ]
  },
  {
   "cell_type": "code",
   "execution_count": null,
   "id": "4807ec5b",
   "metadata": {},
   "outputs": [],
   "source": []
  },
  {
   "cell_type": "code",
   "execution_count": 185,
   "id": "565d314d",
   "metadata": {},
   "outputs": [],
   "source": [
    "batch_size = 10\n",
    "embedding_size = 60\n",
    "words = s.split()\n",
    "for word in words:\n",
    "    if word in stopwords:\n",
    "        words.remove(word)"
   ]
  },
  {
   "cell_type": "code",
   "execution_count": 187,
   "id": "5ab45122",
   "metadata": {},
   "outputs": [
    {
     "data": {
      "text/plain": [
       "['mother',\n",
       " 'loves',\n",
       " 'father',\n",
       " 'children',\n",
       " 'love',\n",
       " 'playing',\n",
       " 'football',\n",
       " 'father',\n",
       " 'loves',\n",
       " 'playing',\n",
       " 'football',\n",
       " 'and',\n",
       " 'loves',\n",
       " 'mother']"
      ]
     },
     "execution_count": 187,
     "metadata": {},
     "output_type": "execute_result"
    }
   ],
   "source": [
    "words"
   ]
  },
  {
   "cell_type": "code",
   "execution_count": 186,
   "id": "e45d7f17",
   "metadata": {},
   "outputs": [],
   "source": [
    "word_list = list(set(s.split()))\n",
    "word_dict = {w: i for i, w in enumerate(word_list)}\n",
    "voc_size = len(word_list)"
   ]
  },
  {
   "cell_type": "code",
   "execution_count": 169,
   "id": "1e9a91c6",
   "metadata": {
    "scrolled": true
   },
   "outputs": [],
   "source": [
    "skip_grams = []\n",
    "for i in range(2, len(words) - 2):\n",
    "    target = word_dict[words[i]]\n",
    "    context = [word_dict[words[i - 2]], word_dict[words[i - 1]], word_dict[words[i + 1]], word_dict[words[i + 2]]]\n",
    "    for word in context:\n",
    "        skip_grams.append([target, word])\n",
    "         \n"
   ]
  },
  {
   "cell_type": "code",
   "execution_count": 170,
   "id": "5aa0d1aa",
   "metadata": {},
   "outputs": [],
   "source": [
    "def random_batch():\n",
    "    random_inputs = []\n",
    "    random_labels = []\n",
    "    random_index = np.random.choice(range(len(skip_grams)), batch_size, replace=False)\n",
    "\n",
    "    for i in random_index:\n",
    "        random_inputs.append(np.eye(voc_size)[skip_grams[i][0]])  \n",
    "        random_labels.append(skip_grams[i][1])  \n",
    "\n",
    "    return random_inputs, random_labels"
   ]
  },
  {
   "cell_type": "code",
   "execution_count": 171,
   "id": "5f8636dc",
   "metadata": {},
   "outputs": [],
   "source": [
    "class Word2Vec(nn.Module):\n",
    "        def __init__(self):\n",
    "            super(Word2Vec, self).__init__()\n",
    "            self.W = nn.Linear(voc_size, embedding_size, bias=False)\n",
    "            self.WT = nn.Linear(embedding_size, voc_size, bias=False)\n",
    "        \n",
    "        def forward(self, X):\n",
    "            hidden_layer = self.W(X)\n",
    "            output_layer = nn.functional.log_softmax(self.WT(hidden_layer), dim=0)\n",
    "            return output_layer"
   ]
  },
  {
   "cell_type": "code",
   "execution_count": 172,
   "id": "ecdff158",
   "metadata": {},
   "outputs": [],
   "source": [
    "model = Word2Vec()   \n",
    "optimizer = optim.Adagrad(model.parameters(), lr=0.01)"
   ]
  },
  {
   "cell_type": "code",
   "execution_count": 178,
   "id": "3accb996",
   "metadata": {},
   "outputs": [],
   "source": [
    "for epoch in range(100):\n",
    "    input_batch, target_batch = random_batch()\n",
    "    input_batch = torch.Tensor(np.array(input_batch))\n",
    "    target_batch = torch.LongTensor(np.array(target_batch))\n",
    "    \n",
    "    optimizer.zero_grad()\n",
    "    output = model(input_batch)\n",
    "    \n",
    "    loss = nn.functional.nll_loss(output, target_batch)\n",
    "    loss.backward()\n",
    "    optimizer.step()"
   ]
  },
  {
   "cell_type": "code",
   "execution_count": 181,
   "id": "8d9346bb",
   "metadata": {},
   "outputs": [],
   "source": [
    "W, WT = model.parameters()\n",
    "res = {}\n",
    "for i, label in enumerate(word_list):\n",
    "    res[label] = W[:, i].detach().numpy()\n",
    "    #res[label] = WT[i].detach().numpy()"
   ]
  },
  {
   "cell_type": "code",
   "execution_count": 180,
   "id": "a4ffe1a9",
   "metadata": {},
   "outputs": [
    {
     "data": {
      "image/png": "[encoded data removed]",
      "text/plain": [
       "<Figure size 432x288 with 1 Axes>"
      ]
     },
     "metadata": {
      "needs_background": "light"
     },
     "output_type": "display_data"
    }
   ],
   "source": [
    "for i, label in enumerate(word_list):\n",
    "    x, y = W[0][i].item(), W[1][i].item()\n",
    "    plt.scatter(x, y)\n",
    "    plt.annotate(label, xy=(x, y), xytext=(5, 2), textcoords='offset points', ha='right', va='bottom')\n",
    "plt.show()"
   ]
  },
  {
   "cell_type": "code",
   "execution_count": null,
   "id": "20dd946c",
   "metadata": {},
   "outputs": [],
   "source": []
  }
 ],
 "metadata": {
  "kernelspec": {
   "display_name": "Python 3 (ipykernel)",
   "language": "python",
   "name": "python3"
  },
  "language_info": {
   "codemirror_mode": {
    "name": "ipython",
    "version": 3
   },
   "file_extension": ".py",
   "mimetype": "text/x-python",
   "name": "python",
   "nbconvert_exporter": "python",
   "pygments_lexer": "ipython3",
   "version": "3.9.13"
  }
 },
 "nbformat": 4,
 "nbformat_minor": 5
}
